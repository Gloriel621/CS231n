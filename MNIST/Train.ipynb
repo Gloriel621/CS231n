{
 "cells": [
  {
   "cell_type": "code",
   "execution_count": 14,
   "metadata": {},
   "outputs": [],
   "source": [
    "import torch\n",
    "import torch.nn as nn\n",
    "import torch.optim\n",
    "import torchvision.datasets as dset\n",
    "import torchvision.transforms as transforms\n",
    "from torch.utils.data import DataLoader\n",
    "import matplotlib.pyplot as plt\n",
    "import seaborn as sns\n",
    "\n",
    "from model import CNN\n",
    "%matplotlib inline"
   ]
  },
  {
   "cell_type": "code",
   "execution_count": 2,
   "metadata": {},
   "outputs": [],
   "source": [
    "import os    \n",
    "os.environ['KMP_DUPLICATE_LIB_OK']='True'"
   ]
  },
  {
   "cell_type": "code",
   "execution_count": 3,
   "metadata": {},
   "outputs": [],
   "source": [
    "batch_size = 256\n",
    "learning_rate = 0.0002\n",
    "num_epoch = 10"
   ]
  },
  {
   "cell_type": "code",
   "execution_count": 4,
   "metadata": {},
   "outputs": [
    {
     "name": "stderr",
     "output_type": "stream",
     "text": [
      "E:\\Miniconda3\\envs\\frost\\lib\\site-packages\\torchvision\\datasets\\mnist.py:498: UserWarning: The given NumPy array is not writeable, and PyTorch does not support non-writeable tensors. This means you can write to the underlying (supposedly non-writeable) NumPy array using the tensor. You may want to copy the array to protect its data or make it writeable before converting it to a tensor. This type of warning will be suppressed for the rest of this program. (Triggered internally at  ..\\torch\\csrc\\utils\\tensor_numpy.cpp:180.)\n",
      "  return torch.from_numpy(parsed.astype(m[2], copy=False)).view(*s)\n"
     ]
    }
   ],
   "source": [
    "download_path = './Dataset'\n",
    "\n",
    "train_dataset = dset.MNIST(download_path, transform=transforms.ToTensor(), train = True, download = True)\n",
    "test_dataset = dset.MNIST(download_path, transform=transforms.ToTensor(), train = False, download = True)"
   ]
  },
  {
   "cell_type": "code",
   "execution_count": 5,
   "metadata": {},
   "outputs": [],
   "source": [
    "train_loader = DataLoader(train_dataset, batch_size=batch_size, shuffle=True, num_workers=2, drop_last=True)\n",
    "test_loader = DataLoader(test_dataset, batch_size=batch_size, shuffle=False, num_workers=2, drop_last=True)"
   ]
  },
  {
   "cell_type": "code",
   "execution_count": 6,
   "metadata": {},
   "outputs": [],
   "source": [
    "device = torch.device(\"cuda:0\" if torch.cuda.is_available() else \"cpu\")\n",
    "model = CNN().to(device)\n",
    "loss_func = nn.CrossEntropyLoss()\n",
    "optimizer = torch.optim.Adam(model.parameters(), lr = learning_rate)"
   ]
  },
  {
   "cell_type": "code",
   "execution_count": 7,
   "metadata": {},
   "outputs": [
    {
     "name": "stderr",
     "output_type": "stream",
     "text": [
      "E:\\Miniconda3\\envs\\frost\\lib\\site-packages\\torch\\nn\\functional.py:718: UserWarning: Named tensors and all their associated APIs are an experimental feature and subject to change. Please do not use them for anything important until they are released as stable. (Triggered internally at  ..\\c10/core/TensorImpl.h:1156.)\n",
      "  return torch.max_pool2d(input, kernel_size, stride, padding, dilation, ceil_mode)\n"
     ]
    },
    {
     "name": "stdout",
     "output_type": "stream",
     "text": [
      " step : 100, current loss : 2.3069117069244385\n",
      " step : 200, current loss : 0.5187492370605469\n",
      " step : 300, current loss : 0.28136032819747925\n",
      " step : 400, current loss : 0.3051002323627472\n",
      " step : 500, current loss : 0.23814672231674194\n",
      " step : 600, current loss : 0.23325027525424957\n",
      " step : 700, current loss : 0.12707605957984924\n",
      " step : 800, current loss : 0.09907405078411102\n",
      " step : 900, current loss : 0.10305913537740707\n",
      " step : 1000, current loss : 0.0783165693283081\n",
      " step : 1100, current loss : 0.09124874323606491\n",
      " step : 1200, current loss : 0.10097873955965042\n",
      " step : 1300, current loss : 0.095696821808815\n",
      " step : 1400, current loss : 0.10397475957870483\n",
      " step : 1500, current loss : 0.054485566914081573\n",
      " step : 1600, current loss : 0.05417254567146301\n",
      " step : 1700, current loss : 0.031768180429935455\n",
      " step : 1800, current loss : 0.05528963357210159\n",
      " step : 1900, current loss : 0.12169183790683746\n",
      " step : 2000, current loss : 0.035626716911792755\n",
      " step : 2100, current loss : 0.04169536381959915\n",
      " step : 2200, current loss : 0.02732280269265175\n",
      " step : 2300, current loss : 0.02993573248386383\n",
      " step : 2400, current loss : 0.045519594103097916\n",
      " step : 2500, current loss : 0.1006999984383583\n",
      " step : 2600, current loss : 0.04071156308054924\n",
      " step : 2700, current loss : 0.03816789388656616\n",
      " step : 2800, current loss : 0.03474074602127075\n",
      " step : 2900, current loss : 0.015583643689751625\n",
      " step : 3000, current loss : 0.033454108983278275\n"
     ]
    }
   ],
   "source": [
    "# train\n",
    "steps = []\n",
    "loss_arr = []\n",
    "step = 0\n",
    "for i in range(num_epoch):\n",
    "    for j, [image, label] in enumerate(train_loader):\n",
    "        x = image.to(device)\n",
    "        y_ = label.to(device)\n",
    "\n",
    "        optimizer.zero_grad()\n",
    "        output = model.forward(x)\n",
    "        loss = loss_func(output, y_)\n",
    "        loss.backward()\n",
    "        optimizer.step()\n",
    "\n",
    "        if j % 100 == 0:\n",
    "            step = step + 100\n",
    "            steps.append[step]\n",
    "            cpu_loss = loss.cpu().detach().numpy()\n",
    "            print(f\" step : {step}, current loss : {cpu_loss}\")\n",
    "            loss_arr.append(cpu_loss)"
   ]
  },
  {
   "cell_type": "code",
   "execution_count": 14,
   "metadata": {},
   "outputs": [
    {
     "data": {
      "image/png": "[encoded data removed]",
      "text/plain": [
       "<Figure size 432x288 with 1 Axes>"
      ]
     },
     "metadata": {
      "needs_background": "light"
     },
     "output_type": "display_data"
    }
   ],
   "source": [
    "plt.plot(steps, loss_arr)\n",
    "plt.xlabel(\"step\")\n",
    "plt.ylabel(\"loss\")\n",
    "plt.show()"
   ]
  },
  {
   "cell_type": "code",
   "execution_count": 15,
   "metadata": {},
   "outputs": [
    {
     "name": "stdout",
     "output_type": "stream",
     "text": [
      "Accuracy : {} 98.64783477783203\n"
     ]
    }
   ],
   "source": [
    "# test\n",
    "correct = 0\n",
    "total = 0\n",
    "\n",
    "with torch.no_grad():\n",
    "    for image, label in test_loader:\n",
    "        x = image.to(device)\n",
    "        y_ = label.to(device)\n",
    "\n",
    "        output = model.forward(x)\n",
    "        _,output_index = torch.max(output,1)\n",
    "        total += label.size(0)\n",
    "        correct += (output_index == y_).sum().float()\n",
    "\n",
    "    print(\"Accuracy : {}\", format(100*correct/total))"
   ]
  },
  {
   "cell_type": "code",
   "execution_count": 11,
   "metadata": {},
   "outputs": [],
   "source": [
    "path = './Model'\n",
    "torch.save(model.state_dict(), path)"
   ]
  }
 ],
 "metadata": {
  "interpreter": {
   "hash": "79bcad3b76df904fc1acf95fdc9450558f2167c0701e9f7498962449329e818b"
  },
  "kernelspec": {
   "display_name": "Python 3.8.5 64-bit ('frost': conda)",
   "language": "python",
   "name": "python3"
  },
  "language_info": {
   "codemirror_mode": {
    "name": "ipython",
    "version": 3
   },
   "file_extension": ".py",
   "mimetype": "text/x-python",
   "name": "python",
   "nbconvert_exporter": "python",
   "pygments_lexer": "ipython3",
   "version": "3.8.5"
  },
  "orig_nbformat": 4
 },
 "nbformat": 4,
 "nbformat_minor": 2
}
